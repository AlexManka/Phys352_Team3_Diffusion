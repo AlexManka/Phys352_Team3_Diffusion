{
 "cells": [
  {
   "cell_type": "code",
   "execution_count": 1,
   "metadata": {},
   "outputs": [],
   "source": [
    "import numpy as np\n",
    "import matplotlib.pyplot as plt"
   ]
  },
  {
   "cell_type": "markdown",
   "metadata": {},
   "source": [
    "The goal of this notebook is to create a finite difference method solver for the n-dimensional diffusion equation\n",
    "\n",
    "$$\n",
    "\\frac{\\partial}{\\partial t} N(\\vec{r}, t) = D \\nabla^2 N(\\vec{r}, t)\n",
    "$$\n",
    ".\n",
    "\n",
    "This PDE will be solved on an n-dimensional rectangular prism $Q \\subset \\mathbb{R}^n$ over a time frame $[0, t_f]$. It will be solved with initial condition $N(\\vec{r}, 0) = f(\\vec{r}) \\, \\forall \\vec{r} \\in Q$ for some function f, and with Dirichlet boundary conditions $N(\\vec{r}, t) = 0 \\, \\forall \\vec{r} \\in \\partial Q \\, \\forall t \\in [0, t_f]$."
   ]
  },
  {
   "cell_type": "markdown",
   "metadata": {},
   "source": [
    "To begin, we consider the 1-dimensional case of the diffusion equation \n",
    "\n",
    "$$\n",
    "\\frac{\\partial}{\\partial t} N(x, t) = D  \\frac{\\partial^2}{\\partial x^2} N(x, t)\n",
    "$$\n",
    ".\n",
    "\n",
    "This PDE will be solved on the interval $x \\in [a, b]$ over a time frame $t \\in [0, t_f]$. It will be solved with initial condition $N(x, 0) = f(x) \\, \\forall x \\in [a, b]$ for some function f, and with Dirichlet boundary conditions $N(a, t) = N(b, t) = 0 \\, \\forall t \\in [0, t_f]$."
   ]
  },
  {
   "cell_type": "markdown",
   "metadata": {},
   "source": [
    "In implementing a finite difference method solver for the equation $\\frac{\\partial}{\\partial t} N(x, t) = D  \\frac{\\partial^2}{\\partial x^2} N(x, t)$, we discretize time and space into steps of $\\Delta t$ and $\\Delta x$, respectively. Then using appropirate approximations for partial derivatives, we find\n",
    "\n",
    "$$\n",
    "\\frac{N_i^{n+1} - N_i^{n}}{\\Delta t} = \\frac{D}{\\Delta x^2} (N_{i+1}^n - 2 N_{i}^n + N_{i-1}^n)\n",
    "$$\n",
    "\n",
    "where upper indices represent time and lower indices represent spatial position. We can rearrange to find\n",
    "\n",
    "$$\n",
    "N_i^{n+1} = \\frac{D \\Delta t}{\\Delta x^2} (N_{i+1}^n - 2 N_{i}^n + N_{i-1}^n) + N_i^n\n",
    "$$\n",
    "\n",
    ", which allows us to find N at the next time step from information about the current time."
   ]
  },
  {
   "cell_type": "markdown",
   "metadata": {},
   "source": [
    "Note: in solving the 1-dimensional diffusion equation, we must use a spatial resolution $\\Delta x << \\lambda$, where $\\lambda$ is the characteristic wavelength of the initial condition function $f$. We must also use a time step $\\Delta t << \\frac{\\Delta x^2}{D}$ in order to get accurate results. (These conditions were derived in Lecture 11.)"
   ]
  },
  {
   "cell_type": "code",
   "execution_count": 149,
   "metadata": {},
   "outputs": [],
   "source": [
    "def solve_diffusion_eqn_1D(tspan, n_tsteps, xspan, n_xsteps, D, f, BC='dirichlet'):\n",
    "    \"\"\"\n",
    "    Gives a numerical solution to the one-dimensional diffusion equation.\n",
    "    Should have dx << lambda and dt << (dx)^2 / D for accurate results, where lambda is the characteristic\n",
    "        wavelength of the initial condition function.\n",
    "    tspan: [start_time, stop_time]\n",
    "    n_tsteps: number of time steps to use\n",
    "    xspan: [left_boundary, right_boundary]\n",
    "    n_xsteps: number of spatial steps to use\n",
    "    D: diffusion constant\n",
    "    f: function f giving the initial condition N(x, 0) = f(x)\n",
    "    BC: indicates boundary conditions to use. If 'dirichlet', uses fixed boundary conditions\n",
    "        N(0, t) = N(right_boundary, t) = 0 (for all t)\n",
    "    return: A 2-dimensional array with t on the 0th axis and x on 1st axis that holds solved values for N_i^n. \n",
    "    Also returns ts and xs, 1-dimensional arrays which list the times and positions used for the grid.\n",
    "    \"\"\"\n",
    "    \n",
    "    tspan = np.asarray(tspan, dtype=np.double)\n",
    "    xspan = np.asarray(xspan, dtype=np.double)\n",
    "    ts = np.linspace(tspan[0], tspan[1], n_tsteps+1, dtype=np.double)\n",
    "    xs = np.linspace(xspan[0], xspan[1], n_xsteps+1, dtype=np.double)\n",
    "    dt = (tspan[1] - tspan[0]) / n_tsteps\n",
    "    dx = (xspan[1] - xspan[0]) / n_xsteps\n",
    "    \n",
    "    \n",
    "    N = np.zeros((n_tsteps+1, n_xsteps+1), dtype=np.double) # first index = time, second index = position\n",
    "    \n",
    "    # Set initial conditions\n",
    "    N[0, :] = f(xs)\n",
    "    \n",
    "    # Solve\n",
    "    if BC=='dirichlet':\n",
    "        # Note: Dirichlet BCs are hard-coded in by essentially setting N[n, -1] = N[n, n_xsteps+1] = 0\n",
    "        for n in range(n_tsteps):\n",
    "            for i in range(n_xsteps+1):\n",
    "                if i==0: # left boundary\n",
    "                    N[n+1, i] = D*dt/(dx**2) * (N[n, i+1] - 2*N[n, i] + 0        )  +  N[n, i]\n",
    "                elif i==n_xsteps: # right boundary\n",
    "                    N[n+1, i] = D*dt/(dx**2) * (0         - 2*N[n, i] + N[n, i-1])  +  N[n, i]\n",
    "                else: # not at a boundary\n",
    "                    N[n+1, i] = D*dt/(dx**2) * (N[n, i+1] - 2*N[n, i] + N[n, i-1])  +  N[n, i]\n",
    "            #debug\n",
    "            if n % 1000 == 0: print(n)\n",
    "            \n",
    "    else:\n",
    "        print('These boundary conditions have not been implemented yet')\n",
    "        return\n",
    "                \n",
    "    return N, ts, xs"
   ]
  },
  {
   "cell_type": "code",
   "execution_count": 147,
   "metadata": {},
   "outputs": [],
   "source": [
    "def gaussian(x):\n",
    "    # To be used as an initial condition\n",
    "    a = 1\n",
    "    sigma = 1\n",
    "    mu = 5\n",
    "    return a * np.exp(-(x-mu)**2 / (2*sigma**2))"
   ]
  },
  {
   "cell_type": "code",
   "execution_count": 152,
   "metadata": {},
   "outputs": [
    {
     "name": "stdout",
     "output_type": "stream",
     "text": [
      "0\n",
      "1000\n",
      "2000\n",
      "3000\n",
      "4000\n",
      "5000\n",
      "6000\n",
      "7000\n",
      "8000\n",
      "9000\n"
     ]
    }
   ],
   "source": [
    "N, ts, xs = solve_diffusion_eqn_1D([0, 10], 10000, [0, 10], 300, 0.1, gaussian, BC='dirichlet')"
   ]
  },
  {
   "cell_type": "code",
   "execution_count": 153,
   "metadata": {
    "scrolled": true
   },
   "outputs": [
    {
     "data": {
      "image/png": "[encoded data removed]",
      "text/plain": [
       "<Figure size 432x288 with 1 Axes>"
      ]
     },
     "metadata": {
      "needs_background": "light"
     },
     "output_type": "display_data"
    }
   ],
   "source": [
    "for time in np.linspace(0, 10, 11):\n",
    "    n = int(time / (10/10000))\n",
    "    plt.plot(xs, N[n, :], marker=',', ls='none', label=str(time)+' sec')\n",
    "    plt.legend()"
   ]
  },
  {
   "cell_type": "code",
   "execution_count": 159,
   "metadata": {},
   "outputs": [],
   "source": [
    "def squarebump(x):\n",
    "    halfwidth = 1\n",
    "    center = 5\n",
    "    if np.abs(x-5) <= halfwidth: return 1\n",
    "    else: return 0\n",
    "squarebump = np.vectorize(squarebump)"
   ]
  },
  {
   "cell_type": "code",
   "execution_count": 160,
   "metadata": {},
   "outputs": [
    {
     "name": "stdout",
     "output_type": "stream",
     "text": [
      "0\n",
      "1000\n",
      "2000\n",
      "3000\n",
      "4000\n",
      "5000\n",
      "6000\n",
      "7000\n",
      "8000\n",
      "9000\n"
     ]
    }
   ],
   "source": [
    "N, ts, xs = solve_diffusion_eqn_1D([0, 10], 10000, [0, 10], 300, 0.1, squarebump, BC='dirichlet')"
   ]
  },
  {
   "cell_type": "code",
   "execution_count": 164,
   "metadata": {},
   "outputs": [
    {
     "data": {
      "text/plain": [
       "[<matplotlib.lines.Line2D at 0x20d3d2ef9e8>]"
      ]
     },
     "execution_count": 164,
     "metadata": {},
     "output_type": "execute_result"
    },
    {
     "data": {
      "image/png": "[encoded data removed]",
      "text/plain": [
       "<Figure size 432x288 with 1 Axes>"
      ]
     },
     "metadata": {
      "needs_background": "light"
     },
     "output_type": "display_data"
    }
   ],
   "source": [
    "for time in np.linspace(0, 10, 11):\n",
    "    n = int(time / (10/10000))\n",
    "    plt.plot(xs, N[n, :], marker=',', ls='none', label=str(time)+' sec')\n",
    "    plt.legend()\n",
    "\n",
    "plt.plot(xs, N[0, :])"
   ]
  }
 ],
 "metadata": {
  "kernelspec": {
   "display_name": "Python 3",
   "language": "python",
   "name": "python3"
  },
  "language_info": {
   "codemirror_mode": {
    "name": "ipython",
    "version": 3
   },
   "file_extension": ".py",
   "mimetype": "text/x-python",
   "name": "python",
   "nbconvert_exporter": "python",
   "pygments_lexer": "ipython3",
   "version": "3.7.3"
  }
 },
 "nbformat": 4,
 "nbformat_minor": 2
}
