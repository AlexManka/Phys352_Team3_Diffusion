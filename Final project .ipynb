{
 "cells": [
  {
   "cell_type": "code",
   "execution_count": 1,
   "metadata": {},
   "outputs": [],
   "source": [
    "import numpy as np\n",
    "import matplotlib.pyplot as plt\n",
    "from celluloid import Camera"
   ]
  },
  {
   "cell_type": "code",
   "execution_count": 174,
   "metadata": {},
   "outputs": [
    {
     "data": {
      "image/png": "[encoded data removed]",
      "text/plain": [
       "<Figure size 576x504 with 1 Axes>"
      ]
     },
     "metadata": {
      "needs_background": "light"
     },
     "output_type": "display_data"
    }
   ],
   "source": [
    "\n",
    "#random walk function\n",
    "def random_walk(num_steps):\n",
    "    #initializing boundary values\n",
    "    xboundary = 20\n",
    "    yboundary= 20\n",
    "    #size of the step (mean free path of water in Angstroms)\n",
    "    step=2.5\n",
    "    #assigning initial particles to the left half of the boundary\n",
    "    xi = np.random.uniform(-xboundary,0)\n",
    "    yi = np.random.uniform(-yboundary,yboundary)\n",
    "    \n",
    "    xpos=[xi]\n",
    "    ypos=[yi]\n",
    "    \n",
    "\n",
    "    for i in range(0,num_steps):\n",
    "        #randomly picking theta and direction values\n",
    "        theta = np.random.uniform(0,2*np.pi)\n",
    "        direction = np.random.uniform(0,1)\n",
    "        \n",
    "        #based on randomly generated values the particle moves with either a positive or negative radius\n",
    "        #the step size is determined by the mean free path of water\n",
    "        if (direction>.5):\n",
    "            r=step\n",
    "        else:\n",
    "            r=-step\n",
    "        \n",
    "        #random angle to move the particle in\n",
    "        x=r*np.cos(theta)+xpos[i]\n",
    "        y=r*np.sin(theta)+ypos[i]\n",
    "        \n",
    "        \n",
    "        #boundary protection that reverses direction of particle if it hits the boundary\n",
    "        if (x>xboundary or x<-xboundary):\n",
    "            x=-r*np.cos(theta)+xpos[i]\n",
    "            \n",
    "        if (y>yboundary or y<-yboundary):\n",
    "            y=-r*np.sin(theta)+ypos[i]\n",
    "        \n",
    "        xpos.append(x)\n",
    "        ypos.append(y)\n",
    "        \n",
    "    return xpos,ypos\n",
    "\n",
    "#setting plot boundary\n",
    "xboundary = 20\n",
    "yboundary= 20\n",
    "\n",
    "#initializing plot\n",
    "f,ax = plt.subplots(figsize=(8,7))\n",
    "camera = Camera(f)\n",
    "ax.set_ylim(-yboundary,yboundary)\n",
    "ax.set_xlim(-xboundary,xboundary)\n",
    "\n",
    "#initializing particles\n",
    "steps =100\n",
    "num_particles = 500\n",
    "x_pos =[]\n",
    "y_pos =[]\n",
    "\n",
    "#creates all the particles for the simulation\n",
    "for i in range (0, num_particles):\n",
    "    tempx, tempy = random_walk(steps)\n",
    "    x_pos.append(tempx)\n",
    "    y_pos.append(tempy)\n",
    "\n",
    "#plots all the particles for each time step and animates into a gif\n",
    "\n",
    "for j in range (0,steps):    \n",
    "    for k in range (0,num_particles):\n",
    "        ax.scatter(x_pos[k][j],y_pos[k][j], color = \"orange\")\n",
    "    camera.snap()\n",
    "\n",
    "animation = camera.animate()\n",
    "\n",
    "animation.save('Partition-500-2.gif', writer='pillow', fps=10)\n"
   ]
  },
  {
   "cell_type": "code",
   "execution_count": 170,
   "metadata": {},
   "outputs": [],
   "source": [
    "\n",
    "r_squared_list=[]\n",
    "r_final = []\n",
    "\n",
    "#computes the average r^2 value for the particles\n",
    "for i in range(0,400):\n",
    "    x, y = random_walk(400)\n",
    "    #squares the displacement values for each time step\n",
    "    r_squared = [ (x[i]-x[0])**2 + (y[i]-y[0])**2 for i in range (0,len(x))]\n",
    "    r_squared_list.append(r_squared)\n",
    "\n",
    "#averages the r^2 value for each time step\n",
    "for j in range (0,len(r_squared_list)):  \n",
    "    total=0\n",
    "    #loops through all particles and average the r^2 value for that time step\n",
    "    for k in range (0,len(r_squared_list)):  \n",
    "        total += r_squared_list[k][j]\n",
    "        \n",
    "    average = total/len(r_squared_list)\n",
    "    r_final.append(average)\n",
    "    \n"
   ]
  },
  {
   "cell_type": "code",
   "execution_count": 171,
   "metadata": {
    "scrolled": true
   },
   "outputs": [
    {
     "data": {
      "text/plain": [
       "<matplotlib.legend.Legend at 0x7f973805ff70>"
      ]
     },
     "execution_count": 171,
     "metadata": {},
     "output_type": "execute_result"
    },
    {
     "data": {
      "image/png": "[encoded data removed]",
      "text/plain": [
       "<Figure size 432x288 with 1 Axes>"
      ]
     },
     "metadata": {
      "needs_background": "light"
     },
     "output_type": "display_data"
    }
   ],
   "source": [
    "#plotting the average r^2 value for each time step\n",
    "t1=np.linspace(0,50,50)\n",
    "t2=np.linspace(0,400,400)\n",
    "#only first 50 points used for fit to ensure reflections of particles were minimized\n",
    "k1,b1=np.polyfit(t1,r_final[:50],1)\n",
    "y=k1*t+b1\n",
    "#converting the t from steps to seconds\n",
    "plt.plot(t2*4.2e-13,r_final)\n",
    "#formatting k value from angstroms^2/step to angstroms^2/second\n",
    "plt.plot(t*4.2e-13,y, label = \"y=kt, k=\"+str(\"{:e}\".format(k1*2.4e12))+\" Angstroms^2/second, \\nBoundary = 100x100\")\n",
    "plt.xlabel(\"seconds\")\n",
    "plt.ylabel(\"<r^2> (Angstroms^2)\")\n",
    "plt.legend()"
   ]
  },
  {
   "cell_type": "code",
   "execution_count": 172,
   "metadata": {},
   "outputs": [
    {
     "data": {
      "text/plain": [
       "5.009929402796037"
      ]
     },
     "execution_count": 172,
     "metadata": {},
     "output_type": "execute_result"
    }
   ],
   "source": [
    "k1"
   ]
  },
  {
   "cell_type": "code",
   "execution_count": 75,
   "metadata": {},
   "outputs": [
    {
     "data": {
      "text/plain": [
       "100"
      ]
     },
     "execution_count": 75,
     "metadata": {},
     "output_type": "execute_result"
    }
   ],
   "source": []
  },
  {
   "cell_type": "code",
   "execution_count": null,
   "metadata": {},
   "outputs": [],
   "source": []
  }
 ],
 "metadata": {
  "kernelspec": {
   "display_name": "Python 3",
   "language": "python",
   "name": "python3"
  },
  "language_info": {
   "codemirror_mode": {
    "name": "ipython",
    "version": 3
   },
   "file_extension": ".py",
   "mimetype": "text/x-python",
   "name": "python",
   "nbconvert_exporter": "python",
   "pygments_lexer": "ipython3",
   "version": "3.8.3"
  }
 },
 "nbformat": 4,
 "nbformat_minor": 2
}
